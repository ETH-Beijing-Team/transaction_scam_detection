{
 "cells": [
  {
   "cell_type": "code",
   "execution_count": 1,
   "id": "2ff9edef",
   "metadata": {},
   "outputs": [],
   "source": [
    "import pandas as pd\n",
    "import numpy as np\n",
    "import matplotlib.pyplot as plt\n",
    "import seaborn as sns\n",
    "import warnings\n",
    "import math\n",
    "from sklearn.model_selection import train_test_split\n",
    "import plotly.express as px \n",
    "from sklearn.datasets import load_iris \n",
    "from sklearn.ensemble import IsolationForest\n",
    "warnings.filterwarnings('ignore')"
   ]
  },
  {
   "cell_type": "code",
   "execution_count": 3,
   "id": "59e6eef5",
   "metadata": {},
   "outputs": [],
   "source": [
    "data = pd.read_csv('/Users/lixian/workplace/transaction_scam_detection/data/prepared_scam_detection_dataset.csv')"
   ]
  },
  {
   "cell_type": "markdown",
   "id": "0ab691f8",
   "metadata": {},
   "source": [
    "## 去除钱包id"
   ]
  },
  {
   "cell_type": "code",
   "execution_count": 4,
   "id": "e5f75a98",
   "metadata": {},
   "outputs": [],
   "source": [
    "data.drop('wallet_id', axis=1, inplace=True)"
   ]
  },
  {
   "cell_type": "code",
   "execution_count": 5,
   "id": "c76a8419",
   "metadata": {},
   "outputs": [
    {
     "name": "stdout",
     "output_type": "stream",
     "text": [
      "<class 'pandas.core.frame.DataFrame'>\n",
      "RangeIndex: 10000 entries, 0 to 9999\n",
      "Data columns (total 37 columns):\n",
      " #   Column                             Non-Null Count  Dtype  \n",
      "---  ------                             --------------  -----  \n",
      " 0   transaction_amount                 10000 non-null  float64\n",
      " 1   gas_price                          10000 non-null  float64\n",
      " 2   wallet_age                         10000 non-null  float64\n",
      " 3   num_transactions                   10000 non-null  float64\n",
      " 4   liquidity_removed                  10000 non-null  float64\n",
      " 5   repeated_token_approvals           10000 non-null  float64\n",
      " 6   contract_complexity                10000 non-null  float64\n",
      " 7   tokens_sent_to_exchanges           10000 non-null  float64\n",
      " 8   withdrawal_to_deposit_ratio        10000 non-null  float64\n",
      " 9   burst_pattern                      10000 non-null  float64\n",
      " 10  unique_wallet_interactions         10000 non-null  float64\n",
      " 11  largest_transaction_amount         10000 non-null  float64\n",
      " 12  failed_transaction_ratio           10000 non-null  float64\n",
      " 13  wallet_reputation_score            10000 non-null  float64\n",
      " 14  percentage_funds_transferred       10000 non-null  float64\n",
      " 15  token_holdings                     10000 non-null  float64\n",
      " 16  deployer_reputation                10000 non-null  float64\n",
      " 17  multiple_token_approvals           10000 non-null  float64\n",
      " 18  time_between_transactions          10000 non-null  float64\n",
      " 19  average_microtransaction_size      10000 non-null  float64\n",
      " 20  total_microtransaction_volume      10000 non-null  float64\n",
      " 21  percentage_small_transactions      10000 non-null  float64\n",
      " 22  average_transaction_interval       10000 non-null  float64\n",
      " 23  max_consecutive_microtransactions  10000 non-null  float64\n",
      " 24  cumulative_transaction_volume      10000 non-null  float64\n",
      " 25  transaction_variability            10000 non-null  float64\n",
      " 26  abnormal_gas_fee_ratio             10000 non-null  float64\n",
      " 27  erc20_to_erc721_ratio              10000 non-null  float64\n",
      " 28  failed_transaction_count           10000 non-null  float64\n",
      " 29  inactivity_before_scam             10000 non-null  float64\n",
      " 30  day_night_activity_split           10000 non-null  float64\n",
      " 31  nft_transfer_count                 10000 non-null  float64\n",
      " 32  suspicious_contract_calls          10000 non-null  float64\n",
      " 33  mint_to_transfer_ratio             10000 non-null  float64\n",
      " 34  dex_interaction_ratio              10000 non-null  float64\n",
      " 35  social_media_mentions              10000 non-null  float64\n",
      " 36  is_scam                            10000 non-null  float64\n",
      "dtypes: float64(37)\n",
      "memory usage: 2.8 MB\n"
     ]
    }
   ],
   "source": [
    "data.info()"
   ]
  },
  {
   "cell_type": "code",
   "execution_count": 6,
   "id": "d96e381a",
   "metadata": {},
   "outputs": [
    {
     "data": {
      "text/plain": [
       "0"
      ]
     },
     "execution_count": 6,
     "metadata": {},
     "output_type": "execute_result"
    }
   ],
   "source": [
    "data.duplicated().sum()"
   ]
  }
 ],
 "metadata": {
  "kernelspec": {
   "display_name": "Python 3",
   "language": "python",
   "name": "python3"
  },
  "language_info": {
   "codemirror_mode": {
    "name": "ipython",
    "version": 3
   },
   "file_extension": ".py",
   "mimetype": "text/x-python",
   "name": "python",
   "nbconvert_exporter": "python",
   "pygments_lexer": "ipython3",
   "version": "3.9.19"
  }
 },
 "nbformat": 4,
 "nbformat_minor": 5
}
